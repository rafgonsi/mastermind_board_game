{
 "cells": [
  {
   "cell_type": "code",
   "execution_count": 1,
   "id": "01ce94eb-9050-4934-83de-838ed08ff89d",
   "metadata": {},
   "outputs": [],
   "source": [
    "from copy import copy\n",
    "from itertools import product\n",
    "import random"
   ]
  },
  {
   "cell_type": "code",
   "execution_count": 3,
   "id": "397cdc03-bff0-48ae-a9f6-4db73c76fcea",
   "metadata": {},
   "outputs": [],
   "source": [
    "COLORS = ['Red', 'Green', 'Blue', 'Yellow', 'Black', 'White']"
   ]
  },
  {
   "cell_type": "code",
   "execution_count": 4,
   "id": "5501d493-f010-4f7c-b944-afc4cf5b5a48",
   "metadata": {},
   "outputs": [],
   "source": [
    "def print_board(board):\n",
    "    print([COLORS[c] for c in board])"
   ]
  },
  {
   "cell_type": "code",
   "execution_count": 5,
   "id": "dc6633a9-3911-4e35-871d-be2a146b6f0b",
   "metadata": {},
   "outputs": [],
   "source": [
    "# # example values for development\n",
    "# true_board = [0, 1, 4, 5]\n",
    "# proposed_board = [0, 2, 3, 1]"
   ]
  },
  {
   "cell_type": "code",
   "execution_count": 6,
   "id": "1959711b-4aa7-49f5-9f8c-c25ff22b7abe",
   "metadata": {},
   "outputs": [
    {
     "data": {
      "text/plain": [
       "[[0, 0, 0, 0],\n",
       " [0, 0, 0, 1],\n",
       " [0, 0, 0, 2],\n",
       " [0, 0, 0, 3],\n",
       " [0, 0, 0, 4],\n",
       " [0, 0, 0, 5],\n",
       " [0, 0, 1, 0],\n",
       " [0, 0, 1, 1]]"
      ]
     },
     "execution_count": 6,
     "metadata": {},
     "output_type": "execute_result"
    }
   ],
   "source": [
    "all_possible_boards = list(\n",
    "    map(\n",
    "        list, \n",
    "        product(range(6), repeat=4)\n",
    "    )\n",
    ")\n",
    "assert len(all_possible_boards) == 6 ** 4\n",
    "all_possible_boards[:8]"
   ]
  },
  {
   "cell_type": "code",
   "execution_count": 7,
   "id": "523e693c-32ae-484b-a27f-78b884f9db69",
   "metadata": {},
   "outputs": [],
   "source": [
    "def count_color_matches(true_board, proposed_board):\n",
    "    true_board = copy(true_board)\n",
    "    cnt = 0\n",
    "    for c in proposed_board:\n",
    "        if c in true_board:\n",
    "            cnt += 1\n",
    "            true_board.remove(c)\n",
    "    return cnt"
   ]
  },
  {
   "cell_type": "code",
   "execution_count": 8,
   "id": "0dd27431-b184-4437-9bfe-97b82d2d22e8",
   "metadata": {},
   "outputs": [],
   "source": [
    "def evaluate_board(true_board, proposed_board):\n",
    "    n_correct_pos = sum(x == y for x, y in zip(true_board, proposed_board))\n",
    "    n_correct_col = count_color_matches(true_board, proposed_board) - n_correct_pos\n",
    "    \n",
    "    return n_correct_pos, n_correct_col"
   ]
  },
  {
   "cell_type": "code",
   "execution_count": 15,
   "id": "5c2c84bf-3145-44ae-8b0d-db9dc904d9d1",
   "metadata": {},
   "outputs": [],
   "source": [
    "assert evaluate_board([0, 1, 4, 5], [0, 2, 3, 1]) == (1, 1)\n",
    "assert evaluate_board([0, 0, 0, 0], [1, 1, 1, 1]) == (0, 0)\n",
    "assert evaluate_board([1, 1, 0, 0], [0, 0, 1, 1]) == (0, 4)\n",
    "assert evaluate_board([1, 2, 0, 0], [5, 4, 1, 2]) == (0, 2)\n",
    "assert evaluate_board([0, 0, 0, 0], [0, 0, 0, 0]) == (4, 0)"
   ]
  },
  {
   "cell_type": "code",
   "execution_count": 17,
   "id": "a7ba18ae-0795-4a0f-8841-4d0ede7e0d32",
   "metadata": {},
   "outputs": [],
   "source": [
    "def select_move(allowed_boards):\n",
    "    return random.choice(allowed_boards)"
   ]
  },
  {
   "cell_type": "code",
   "execution_count": 19,
   "id": "f433ad99-2839-49bd-9973-5529168f4f6d",
   "metadata": {},
   "outputs": [],
   "source": [
    "def filter_allowed(allowed_boards, board, result):\n",
    "    new_allowed = []\n",
    "    for allowed in allowed_boards:\n",
    "        if evaluate_board(allowed, board) == result:\n",
    "            new_allowed.append(allowed)\n",
    "    return new_allowed"
   ]
  },
  {
   "cell_type": "code",
   "execution_count": 21,
   "id": "37fb6fe1-76e6-4382-84eb-ab4f970741a5",
   "metadata": {},
   "outputs": [],
   "source": [
    "def read_results_from_keyboard():\n",
    "    blacks = int(input('Black points:'))\n",
    "    whites = int(input('White points:'))\n",
    "    return blacks, whites"
   ]
  },
  {
   "cell_type": "code",
   "execution_count": 27,
   "id": "f23edd9d-3bf2-480d-8fe7-479d17d963bd",
   "metadata": {},
   "outputs": [
    {
     "name": "stdout",
     "output_type": "stream",
     "text": [
      "Move 1. Number of possibilities: 1296\n",
      "['Yellow', 'Yellow', 'Black', 'White']\n"
     ]
    },
    {
     "name": "stdin",
     "output_type": "stream",
     "text": [
      "Black points: 0\n",
      "White points: 1\n"
     ]
    },
    {
     "name": "stdout",
     "output_type": "stream",
     "text": [
      "Move 2. Number of possibilities: 276\n",
      "['Blue', 'Red', 'Red', 'Yellow']\n"
     ]
    },
    {
     "name": "stdin",
     "output_type": "stream",
     "text": [
      "Black points: 0\n",
      "White points: 3\n"
     ]
    },
    {
     "name": "stdout",
     "output_type": "stream",
     "text": [
      "Move 3. Number of possibilities: 8\n",
      "['Red', 'Black', 'Blue', 'Red']\n"
     ]
    },
    {
     "name": "stdin",
     "output_type": "stream",
     "text": [
      "Black points: 2\n",
      "White points: 1\n"
     ]
    },
    {
     "name": "stdout",
     "output_type": "stream",
     "text": [
      "Correct answer:\n",
      "['Red', 'Blue', 'White', 'Red']\n"
     ]
    }
   ],
   "source": [
    "allowed_boards = all_possible_boards\n",
    "for i in range(1, 100):\n",
    "    print(f'Move {i}. Number of possibilities: {len(allowed_boards)}')\n",
    "    move = select_move(allowed_boards)\n",
    "    print_board(move)\n",
    "    result = read_results_from_keyboard()\n",
    "    allowed_boards = filter_allowed(allowed_boards, move, result)\n",
    "    if len(allowed_boards) == 1:\n",
    "        answer = allowed_boards[0]\n",
    "        print('Correct answer:')\n",
    "        print_board(answer)\n",
    "        break\n",
    "    "
   ]
  },
  {
   "cell_type": "code",
   "execution_count": null,
   "id": "8fe2c669-f797-4783-8e99-f9bcf51bc650",
   "metadata": {},
   "outputs": [],
   "source": []
  }
 ],
 "metadata": {
  "kernelspec": {
   "display_name": "Python 3 (ipykernel)",
   "language": "python",
   "name": "python3"
  },
  "language_info": {
   "codemirror_mode": {
    "name": "ipython",
    "version": 3
   },
   "file_extension": ".py",
   "mimetype": "text/x-python",
   "name": "python",
   "nbconvert_exporter": "python",
   "pygments_lexer": "ipython3",
   "version": "3.10.14"
  }
 },
 "nbformat": 4,
 "nbformat_minor": 5
}
